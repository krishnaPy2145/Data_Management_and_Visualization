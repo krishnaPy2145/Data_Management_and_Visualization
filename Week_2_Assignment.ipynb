{
 "cells": [
  {
   "cell_type": "code",
   "execution_count": 1,
   "metadata": {},
   "outputs": [],
   "source": [
    "import pandas as pd\n",
    "import numpy as np \n",
    "import matplotlib.pyplot as plt"
   ]
  },
  {
   "cell_type": "markdown",
   "metadata": {},
   "source": [
    "### read data file"
   ]
  },
  {
   "cell_type": "code",
   "execution_count": 2,
   "metadata": {},
   "outputs": [],
   "source": [
    "dataframe = pd.read_csv(\"TSAClaims2002_2017.csv\",encoding='cp1252')"
   ]
  },
  {
   "cell_type": "markdown",
   "metadata": {},
   "source": [
    "#### columns of dataframe"
   ]
  },
  {
   "cell_type": "code",
   "execution_count": 4,
   "metadata": {},
   "outputs": [
    {
     "data": {
      "text/plain": [
       "Index(['Claim_Number', 'Date_Received', 'Incident_Date', 'Airport_Code',\n",
       "       'Airport_Name', 'Claim_Type', 'Claim_Site', 'Item_Category',\n",
       "       'Close_Amount', 'Disposition', 'StateName', 'State', 'County', 'City'],\n",
       "      dtype='object')"
      ]
     },
     "execution_count": 4,
     "metadata": {},
     "output_type": "execute_result"
    }
   ],
   "source": [
    "dataframe.columns"
   ]
  },
  {
   "cell_type": "code",
   "execution_count": 5,
   "metadata": {},
   "outputs": [
    {
     "data": {
      "text/plain": [
       "(220855, 14)"
      ]
     },
     "execution_count": 5,
     "metadata": {},
     "output_type": "execute_result"
    }
   ],
   "source": [
    "dataframe.shape"
   ]
  },
  {
   "cell_type": "raw",
   "metadata": {},
   "source": [
    "Dataframe has 220855 rows & 14 columns"
   ]
  },
  {
   "cell_type": "markdown",
   "metadata": {},
   "source": [
    "### display first 5 rows of dataframe"
   ]
  },
  {
   "cell_type": "code",
   "execution_count": 3,
   "metadata": {},
   "outputs": [
    {
     "data": {
      "text/html": [
       "<div>\n",
       "<style scoped>\n",
       "    .dataframe tbody tr th:only-of-type {\n",
       "        vertical-align: middle;\n",
       "    }\n",
       "\n",
       "    .dataframe tbody tr th {\n",
       "        vertical-align: top;\n",
       "    }\n",
       "\n",
       "    .dataframe thead th {\n",
       "        text-align: right;\n",
       "    }\n",
       "</style>\n",
       "<table border=\"1\" class=\"dataframe\">\n",
       "  <thead>\n",
       "    <tr style=\"text-align: right;\">\n",
       "      <th></th>\n",
       "      <th>Claim_Number</th>\n",
       "      <th>Date_Received</th>\n",
       "      <th>Incident_Date</th>\n",
       "      <th>Airport_Code</th>\n",
       "      <th>Airport_Name</th>\n",
       "      <th>Claim_Type</th>\n",
       "      <th>Claim_Site</th>\n",
       "      <th>Item_Category</th>\n",
       "      <th>Close_Amount</th>\n",
       "      <th>Disposition</th>\n",
       "      <th>StateName</th>\n",
       "      <th>State</th>\n",
       "      <th>County</th>\n",
       "      <th>City</th>\n",
       "    </tr>\n",
       "  </thead>\n",
       "  <tbody>\n",
       "    <tr>\n",
       "      <td>0</td>\n",
       "      <td>2006081611123</td>\n",
       "      <td>17027.0</td>\n",
       "      <td>17006.0</td>\n",
       "      <td>NaN</td>\n",
       "      <td>NaN</td>\n",
       "      <td>Passenger Property Loss</td>\n",
       "      <td>Checked Baggage</td>\n",
       "      <td>Candles - Decorative and other; Clothing - Sho...</td>\n",
       "      <td>NaN</td>\n",
       "      <td>NaN</td>\n",
       "      <td>NaN</td>\n",
       "      <td>NaN</td>\n",
       "      <td>NaN</td>\n",
       "      <td>NaN</td>\n",
       "    </tr>\n",
       "    <tr>\n",
       "      <td>1</td>\n",
       "      <td>2006062108380</td>\n",
       "      <td>16972.0</td>\n",
       "      <td>16957.0</td>\n",
       "      <td>NaN</td>\n",
       "      <td>NaN</td>\n",
       "      <td>Passenger Property Loss</td>\n",
       "      <td>Checkpoint</td>\n",
       "      <td>Jewelry - Fine</td>\n",
       "      <td>NaN</td>\n",
       "      <td>NaN</td>\n",
       "      <td>NaN</td>\n",
       "      <td>NaN</td>\n",
       "      <td>NaN</td>\n",
       "      <td>NaN</td>\n",
       "    </tr>\n",
       "    <tr>\n",
       "      <td>2</td>\n",
       "      <td>2006062008258</td>\n",
       "      <td>16972.0</td>\n",
       "      <td>16938.0</td>\n",
       "      <td>NaN</td>\n",
       "      <td>NaN</td>\n",
       "      <td>Passenger Property Loss</td>\n",
       "      <td>Checked Baggage</td>\n",
       "      <td>Cosmetics - Perfume, toilet articles, medicine...</td>\n",
       "      <td>NaN</td>\n",
       "      <td>NaN</td>\n",
       "      <td>NaN</td>\n",
       "      <td>NaN</td>\n",
       "      <td>NaN</td>\n",
       "      <td>NaN</td>\n",
       "    </tr>\n",
       "    <tr>\n",
       "      <td>3</td>\n",
       "      <td>2006010699056</td>\n",
       "      <td>16831.0</td>\n",
       "      <td>16793.0</td>\n",
       "      <td>NaN</td>\n",
       "      <td>NaN</td>\n",
       "      <td>Passenger Property Loss</td>\n",
       "      <td>Checked Baggage</td>\n",
       "      <td>Other</td>\n",
       "      <td>NaN</td>\n",
       "      <td>NaN</td>\n",
       "      <td>NaN</td>\n",
       "      <td>NaN</td>\n",
       "      <td>NaN</td>\n",
       "      <td>NaN</td>\n",
       "    </tr>\n",
       "    <tr>\n",
       "      <td>4</td>\n",
       "      <td>2006032303625</td>\n",
       "      <td>16880.0</td>\n",
       "      <td>16861.0</td>\n",
       "      <td>NaN</td>\n",
       "      <td>NaN</td>\n",
       "      <td>Property Damage</td>\n",
       "      <td>Checked Baggage</td>\n",
       "      <td>Luggage (all types including footlockers)</td>\n",
       "      <td>NaN</td>\n",
       "      <td>NaN</td>\n",
       "      <td>NaN</td>\n",
       "      <td>NaN</td>\n",
       "      <td>NaN</td>\n",
       "      <td>NaN</td>\n",
       "    </tr>\n",
       "  </tbody>\n",
       "</table>\n",
       "</div>"
      ],
      "text/plain": [
       "    Claim_Number  Date_Received  Incident_Date Airport_Code Airport_Name  \\\n",
       "0  2006081611123        17027.0        17006.0          NaN          NaN   \n",
       "1  2006062108380        16972.0        16957.0          NaN          NaN   \n",
       "2  2006062008258        16972.0        16938.0          NaN          NaN   \n",
       "3  2006010699056        16831.0        16793.0          NaN          NaN   \n",
       "4  2006032303625        16880.0        16861.0          NaN          NaN   \n",
       "\n",
       "                Claim_Type       Claim_Site  \\\n",
       "0  Passenger Property Loss  Checked Baggage   \n",
       "1  Passenger Property Loss       Checkpoint   \n",
       "2  Passenger Property Loss  Checked Baggage   \n",
       "3  Passenger Property Loss  Checked Baggage   \n",
       "4          Property Damage  Checked Baggage   \n",
       "\n",
       "                                       Item_Category  Close_Amount  \\\n",
       "0  Candles - Decorative and other; Clothing - Sho...           NaN   \n",
       "1                                     Jewelry - Fine           NaN   \n",
       "2  Cosmetics - Perfume, toilet articles, medicine...           NaN   \n",
       "3                                              Other           NaN   \n",
       "4          Luggage (all types including footlockers)           NaN   \n",
       "\n",
       "  Disposition StateName State County City  \n",
       "0         NaN       NaN   NaN    NaN  NaN  \n",
       "1         NaN       NaN   NaN    NaN  NaN  \n",
       "2         NaN       NaN   NaN    NaN  NaN  \n",
       "3         NaN       NaN   NaN    NaN  NaN  \n",
       "4         NaN       NaN   NaN    NaN  NaN  "
      ]
     },
     "execution_count": 3,
     "metadata": {},
     "output_type": "execute_result"
    }
   ],
   "source": [
    "dataframe.head()"
   ]
  },
  {
   "cell_type": "markdown",
   "metadata": {},
   "source": [
    "# Frequency distribution for Claim_Type, Claim_Site, Disposition"
   ]
  },
  {
   "cell_type": "code",
   "execution_count": 9,
   "metadata": {},
   "outputs": [
    {
     "data": {
      "text/plain": [
       "Passenger Theft                            0.002249\n",
       "Wrongful Death                             0.000019\n",
       "Passenger Property Loss                    0.595430\n",
       "Passenger Property Loss/Personal Injury    0.000061\n",
       "Passenger Property Loss/Personal Injur     0.000038\n",
       "Personal Injury                            0.007575\n",
       "Motor Vehicle                              0.001986\n",
       "Property Damage/Personal Injury            0.000066\n",
       "Complaint                                  0.000343\n",
       "Employee Loss (MPCECA)                     0.002310\n",
       "Property Damage                            0.387904\n",
       "Missed Flight                              0.000150\n",
       "Not Provided                               0.000009\n",
       "-                                          0.001761\n",
       "Compliment                                 0.000014\n",
       "Bus Terminal                               0.000005\n",
       "Property Loss                              0.000080\n",
       "Name: Claim_Type, dtype: float64"
      ]
     },
     "execution_count": 9,
     "metadata": {},
     "output_type": "execute_result"
    }
   ],
   "source": [
    "dataframe['Claim_Type'].value_counts(sort=False,normalize=True)"
   ]
  },
  {
   "cell_type": "code",
   "execution_count": 10,
   "metadata": {},
   "outputs": [
    {
     "data": {
      "text/plain": [
       "Pre-Check          0.000036\n",
       "Bus Station        0.000091\n",
       "Other              0.013229\n",
       "Motor Vehicle      0.002453\n",
       "Checked Baggage    0.779139\n",
       "Not Provided       0.000005\n",
       "-                  0.001758\n",
       "Checkpoint         0.203289\n",
       "Name: Claim_Site, dtype: float64"
      ]
     },
     "execution_count": 10,
     "metadata": {},
     "output_type": "execute_result"
    }
   ],
   "source": [
    "dataframe['Claim_Site'].value_counts(sort=False,normalize=True)"
   ]
  },
  {
   "cell_type": "code",
   "execution_count": 11,
   "metadata": {},
   "outputs": [
    {
     "data": {
      "text/plain": [
       "Pending Payment            0.000005\n",
       "Closed: Canceled           0.000806\n",
       "Closed:Canceled            0.001372\n",
       "Received                   0.000068\n",
       "*Insufficient              0.008379\n",
       "Settle                     0.166233\n",
       "Approve in Full            0.236421\n",
       "In Review                  0.043164\n",
       "Deny                       0.480994\n",
       "losed: Contractor Claim    0.000353\n",
       "Closed:Contractor Claim    0.000555\n",
       "-                          0.061650\n",
       "Name: Disposition, dtype: float64"
      ]
     },
     "execution_count": 11,
     "metadata": {},
     "output_type": "execute_result"
    }
   ],
   "source": [
    "dataframe['Disposition'].value_counts(sort=False,normalize=True)"
   ]
  },
  {
   "cell_type": "markdown",
   "metadata": {},
   "source": [
    "# summary of Frequency distribution for Claim_Type, Claim_Site, Disposition"
   ]
  },
  {
   "cell_type": "raw",
   "metadata": {},
   "source": [
    "For claim_Type column, have duplice values. (Passenger Property Loss/Personal Injury) repated for 5 time. Its has NaN with '-' it should be replace with UNKNOWN field."
   ]
  },
  {
   "cell_type": "raw",
   "metadata": {},
   "source": [
    "For claim_Site, have no duplice values, but Its have NaN as '-' it should be replace with UNKNOWN field."
   ]
  },
  {
   "cell_type": "raw",
   "metadata": {},
   "source": [
    "For Disposition , have duplice values. Those duplice values should be fixed while data cleaning. Its have NaN as '-' it should be replace with UNKNOWN field."
   ]
  },
  {
   "cell_type": "markdown",
   "metadata": {},
   "source": [
    "# Data cleaning."
   ]
  },
  {
   "cell_type": "raw",
   "metadata": {},
   "source": [
    "1) NaN values of string coulmns should be fill with \"UNKNOWN\" & numeric columns with Zero(0)\n",
    "2) '-' special character should be replace with \"UNKNOWN'"
   ]
  },
  {
   "cell_type": "code",
   "execution_count": 15,
   "metadata": {},
   "outputs": [],
   "source": [
    "\"\"\"correcting mistaken entery values of Disposition\"\"\"\n",
    "new = []\n",
    "for i in dataframe['Disposition']:\n",
    "    if i == '-':\n",
    "        i = 'Unknown'\n",
    "    elif i == 'Closed: Canceled':\n",
    "        i = 'Closed:Canceled'\n",
    "    elif i == 'losed: Contractor Claim':\n",
    "        i = 'Closed:Contractor Claim'\n",
    "    new.append(i)"
   ]
  },
  {
   "cell_type": "code",
   "execution_count": 16,
   "metadata": {},
   "outputs": [],
   "source": [
    "dataframe['Disposition'] = new"
   ]
  },
  {
   "cell_type": "code",
   "execution_count": 17,
   "metadata": {},
   "outputs": [],
   "source": [
    "new = []\n",
    "for i in dataframe['Claim_Site']:\n",
    "    if i == '-':\n",
    "        i = 'Unknown'\n",
    "    new.append(i)"
   ]
  },
  {
   "cell_type": "code",
   "execution_count": 18,
   "metadata": {},
   "outputs": [],
   "source": [
    "dataframe[\"Claim_Site\"] = new"
   ]
  },
  {
   "cell_type": "code",
   "execution_count": 19,
   "metadata": {},
   "outputs": [],
   "source": [
    "new = []\n",
    "for i in dataframe['Claim_Type']:\n",
    "    if i == '-':\n",
    "        i = 'Unknown'\n",
    "    new.append(i)"
   ]
  },
  {
   "cell_type": "code",
   "execution_count": 20,
   "metadata": {},
   "outputs": [],
   "source": [
    "dataframe[\"Claim_Type\"] = new"
   ]
  },
  {
   "cell_type": "code",
   "execution_count": 21,
   "metadata": {},
   "outputs": [],
   "source": [
    "for i in dataframe.columns:\n",
    "    if i in ['Date_Received','Incident_Date','Close_Amount']:\n",
    "         dataframe[i] = dataframe[i].fillna(0)\n",
    "    elif i in ['Airport_Code','Airport_Name','Claim_Type','Claim_Site','Item_Category','Disposition','StateName','State']:\n",
    "        dataframe[i] = dataframe[i].fillna('Unknown')\n",
    "        "
   ]
  },
  {
   "cell_type": "code",
   "execution_count": 38,
   "metadata": {},
   "outputs": [],
   "source": [
    "new = []\n",
    "for i in dataframe[\"Claim_Type\"]:\n",
    "    if i == 'Passenger Property Loss/Personal Injur':\n",
    "        i = 'Passenger Property Loss/Personal Injury'\n",
    "    elif i == 'Property Loss':\n",
    "        i = 'Passenger Property Loss'\n",
    "    new.append(i)"
   ]
  },
  {
   "cell_type": "code",
   "execution_count": 39,
   "metadata": {},
   "outputs": [
    {
     "name": "stderr",
     "output_type": "stream",
     "text": [
      "c:\\users\\manuh2\\iusers_doc\\py\\lib\\site-packages\\ipykernel_launcher.py:1: SettingWithCopyWarning: \n",
      "A value is trying to be set on a copy of a slice from a DataFrame.\n",
      "Try using .loc[row_indexer,col_indexer] = value instead\n",
      "\n",
      "See the caveats in the documentation: http://pandas.pydata.org/pandas-docs/stable/user_guide/indexing.html#returning-a-view-versus-a-copy\n",
      "  \"\"\"Entry point for launching an IPython kernel.\n"
     ]
    }
   ],
   "source": [
    "dataframe[\"Claim_Type\"] = new"
   ]
  },
  {
   "cell_type": "markdown",
   "metadata": {},
   "source": [
    "### droping duplicate records from dataframe cleaned one assigned to dataframe again."
   ]
  },
  {
   "cell_type": "code",
   "execution_count": 26,
   "metadata": {},
   "outputs": [],
   "source": [
    "dataframe = dataframe.drop_duplicates('Claim_Number')"
   ]
  },
  {
   "cell_type": "code",
   "execution_count": 27,
   "metadata": {},
   "outputs": [
    {
     "data": {
      "text/html": [
       "<div>\n",
       "<style scoped>\n",
       "    .dataframe tbody tr th:only-of-type {\n",
       "        vertical-align: middle;\n",
       "    }\n",
       "\n",
       "    .dataframe tbody tr th {\n",
       "        vertical-align: top;\n",
       "    }\n",
       "\n",
       "    .dataframe thead th {\n",
       "        text-align: right;\n",
       "    }\n",
       "</style>\n",
       "<table border=\"1\" class=\"dataframe\">\n",
       "  <thead>\n",
       "    <tr style=\"text-align: right;\">\n",
       "      <th></th>\n",
       "      <th>Claim_Number</th>\n",
       "      <th>Date_Received</th>\n",
       "      <th>Incident_Date</th>\n",
       "      <th>Airport_Code</th>\n",
       "      <th>Airport_Name</th>\n",
       "      <th>Claim_Type</th>\n",
       "      <th>Claim_Site</th>\n",
       "      <th>Item_Category</th>\n",
       "      <th>Close_Amount</th>\n",
       "      <th>Disposition</th>\n",
       "      <th>StateName</th>\n",
       "      <th>State</th>\n",
       "      <th>County</th>\n",
       "      <th>City</th>\n",
       "    </tr>\n",
       "  </thead>\n",
       "  <tbody>\n",
       "    <tr>\n",
       "      <td>0</td>\n",
       "      <td>2006081611123</td>\n",
       "      <td>17027.0</td>\n",
       "      <td>17006.0</td>\n",
       "      <td>Unknown</td>\n",
       "      <td>Unknown</td>\n",
       "      <td>Passenger Property Loss</td>\n",
       "      <td>Checked Baggage</td>\n",
       "      <td>Candles - Decorative and other; Clothing - Sho...</td>\n",
       "      <td>0.0</td>\n",
       "      <td>Unknown</td>\n",
       "      <td>Unknown</td>\n",
       "      <td>Unknown</td>\n",
       "      <td>NaN</td>\n",
       "      <td>NaN</td>\n",
       "    </tr>\n",
       "    <tr>\n",
       "      <td>1</td>\n",
       "      <td>2006062108380</td>\n",
       "      <td>16972.0</td>\n",
       "      <td>16957.0</td>\n",
       "      <td>Unknown</td>\n",
       "      <td>Unknown</td>\n",
       "      <td>Passenger Property Loss</td>\n",
       "      <td>Checkpoint</td>\n",
       "      <td>Jewelry - Fine</td>\n",
       "      <td>0.0</td>\n",
       "      <td>Unknown</td>\n",
       "      <td>Unknown</td>\n",
       "      <td>Unknown</td>\n",
       "      <td>NaN</td>\n",
       "      <td>NaN</td>\n",
       "    </tr>\n",
       "    <tr>\n",
       "      <td>2</td>\n",
       "      <td>2006062008258</td>\n",
       "      <td>16972.0</td>\n",
       "      <td>16938.0</td>\n",
       "      <td>Unknown</td>\n",
       "      <td>Unknown</td>\n",
       "      <td>Passenger Property Loss</td>\n",
       "      <td>Checked Baggage</td>\n",
       "      <td>Cosmetics - Perfume, toilet articles, medicine...</td>\n",
       "      <td>0.0</td>\n",
       "      <td>Unknown</td>\n",
       "      <td>Unknown</td>\n",
       "      <td>Unknown</td>\n",
       "      <td>NaN</td>\n",
       "      <td>NaN</td>\n",
       "    </tr>\n",
       "    <tr>\n",
       "      <td>3</td>\n",
       "      <td>2006010699056</td>\n",
       "      <td>16831.0</td>\n",
       "      <td>16793.0</td>\n",
       "      <td>Unknown</td>\n",
       "      <td>Unknown</td>\n",
       "      <td>Passenger Property Loss</td>\n",
       "      <td>Checked Baggage</td>\n",
       "      <td>Other</td>\n",
       "      <td>0.0</td>\n",
       "      <td>Unknown</td>\n",
       "      <td>Unknown</td>\n",
       "      <td>Unknown</td>\n",
       "      <td>NaN</td>\n",
       "      <td>NaN</td>\n",
       "    </tr>\n",
       "    <tr>\n",
       "      <td>4</td>\n",
       "      <td>2006032303625</td>\n",
       "      <td>16880.0</td>\n",
       "      <td>16861.0</td>\n",
       "      <td>Unknown</td>\n",
       "      <td>Unknown</td>\n",
       "      <td>Property Damage</td>\n",
       "      <td>Checked Baggage</td>\n",
       "      <td>Luggage (all types including footlockers)</td>\n",
       "      <td>0.0</td>\n",
       "      <td>Unknown</td>\n",
       "      <td>Unknown</td>\n",
       "      <td>Unknown</td>\n",
       "      <td>NaN</td>\n",
       "      <td>NaN</td>\n",
       "    </tr>\n",
       "  </tbody>\n",
       "</table>\n",
       "</div>"
      ],
      "text/plain": [
       "    Claim_Number  Date_Received  Incident_Date Airport_Code Airport_Name  \\\n",
       "0  2006081611123        17027.0        17006.0      Unknown      Unknown   \n",
       "1  2006062108380        16972.0        16957.0      Unknown      Unknown   \n",
       "2  2006062008258        16972.0        16938.0      Unknown      Unknown   \n",
       "3  2006010699056        16831.0        16793.0      Unknown      Unknown   \n",
       "4  2006032303625        16880.0        16861.0      Unknown      Unknown   \n",
       "\n",
       "                Claim_Type       Claim_Site  \\\n",
       "0  Passenger Property Loss  Checked Baggage   \n",
       "1  Passenger Property Loss       Checkpoint   \n",
       "2  Passenger Property Loss  Checked Baggage   \n",
       "3  Passenger Property Loss  Checked Baggage   \n",
       "4          Property Damage  Checked Baggage   \n",
       "\n",
       "                                       Item_Category  Close_Amount  \\\n",
       "0  Candles - Decorative and other; Clothing - Sho...           0.0   \n",
       "1                                     Jewelry - Fine           0.0   \n",
       "2  Cosmetics - Perfume, toilet articles, medicine...           0.0   \n",
       "3                                              Other           0.0   \n",
       "4          Luggage (all types including footlockers)           0.0   \n",
       "\n",
       "  Disposition StateName    State County City  \n",
       "0     Unknown   Unknown  Unknown    NaN  NaN  \n",
       "1     Unknown   Unknown  Unknown    NaN  NaN  \n",
       "2     Unknown   Unknown  Unknown    NaN  NaN  \n",
       "3     Unknown   Unknown  Unknown    NaN  NaN  \n",
       "4     Unknown   Unknown  Unknown    NaN  NaN  "
      ]
     },
     "execution_count": 27,
     "metadata": {},
     "output_type": "execute_result"
    }
   ],
   "source": [
    "dataframe.head()"
   ]
  },
  {
   "cell_type": "markdown",
   "metadata": {},
   "source": [
    "## Frequency distribution for Claim_Type, Claim_Site, Disposition after data cleaing."
   ]
  },
  {
   "cell_type": "code",
   "execution_count": 36,
   "metadata": {},
   "outputs": [],
   "source": [
    "list1 = ['Claim_Type','Claim_Site','Disposition']\n",
    "def value_counts():\n",
    "    for i in list1:\n",
    "        print(dataframe[i].value_counts())\n",
    "        print(\"--------------------------------------------------\")\n",
    "        print(\"\\n \\n \\n\")"
   ]
  },
  {
   "cell_type": "code",
   "execution_count": 40,
   "metadata": {},
   "outputs": [
    {
     "name": "stdout",
     "output_type": "stream",
     "text": [
      "Passenger Property Loss                    126811\n",
      "Property Damage                             82600\n",
      "Unknown                                      8283\n",
      "Personal Injury                              1597\n",
      "Employee Loss (MPCECA)                        492\n",
      "Passenger Theft                               479\n",
      "Motor Vehicle                                 416\n",
      "Complaint                                      73\n",
      "Missed Flight                                  32\n",
      "Passenger Property Loss/Personal Injury        21\n",
      "Property Damage/Personal Injury                14\n",
      "Wrongful Death                                  4\n",
      "Compliment                                      3\n",
      "Not Provided                                    2\n",
      "Bus Terminal                                    1\n",
      "Name: Claim_Type, dtype: int64\n",
      "--------------------------------------------------\n",
      "\n",
      " \n",
      " \n",
      "\n",
      "Checked Baggage    171497\n",
      "Checkpoint          44737\n",
      "Other                2912\n",
      "Unknown              1121\n",
      "Motor Vehicle         532\n",
      "Bus Station            20\n",
      "Pre-Check               8\n",
      "Not Provided            1\n",
      "Name: Claim_Site, dtype: int64\n",
      "--------------------------------------------------\n",
      "\n",
      " \n",
      " \n",
      "\n",
      "Deny                       99596\n",
      "Approve in Full            48955\n",
      "Settle                     34421\n",
      "Unknown                    26529\n",
      "In Review                   8938\n",
      "*Insufficient               1735\n",
      "Closed:Canceled              451\n",
      "Closed:Contractor Claim      188\n",
      "Received                      14\n",
      "Pending Payment                1\n",
      "Name: Disposition, dtype: int64\n",
      "--------------------------------------------------\n",
      "\n",
      " \n",
      " \n",
      "\n"
     ]
    }
   ],
   "source": [
    "value_counts()"
   ]
  },
  {
   "cell_type": "code",
   "execution_count": null,
   "metadata": {},
   "outputs": [],
   "source": []
  }
 ],
 "metadata": {
  "kernelspec": {
   "display_name": "Python 3",
   "language": "python",
   "name": "python3"
  },
  "language_info": {
   "codemirror_mode": {
    "name": "ipython",
    "version": 3
   },
   "file_extension": ".py",
   "mimetype": "text/x-python",
   "name": "python",
   "nbconvert_exporter": "python",
   "pygments_lexer": "ipython3",
   "version": "3.7.4"
  }
 },
 "nbformat": 4,
 "nbformat_minor": 2
}
